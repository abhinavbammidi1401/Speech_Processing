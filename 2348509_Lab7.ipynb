{
 "cells": [
  {
   "cell_type": "code",
   "execution_count": 22,
   "metadata": {},
   "outputs": [],
   "source": [
    "import numpy as np"
   ]
  },
  {
   "cell_type": "code",
   "execution_count": 23,
   "metadata": {},
   "outputs": [],
   "source": [
    "# (a) Representing the HMM parameters\n",
    "phonemes = ['/s/', '/p/', '/ie:/', '/tS/']\n",
    "observations = ['Energy', 'Pitch', 'Duration']\n",
    "\n",
    "# Initial probabilities\n",
    "initial_probs = {'/s/': 1.0, '/p/': 0.0, '/ie/': 0.0, '/tS/': 0.0}"
   ]
  },
  {
   "cell_type": "code",
   "execution_count": 24,
   "metadata": {},
   "outputs": [],
   "source": [
    "# Transition probabilities matrix\n",
    "transition_probs = {\n",
    "    '/s/': {'/s/': 0.1, '/p/': 0.8, '/ie:/': 0.1, '/tS/': 0.0},\n",
    "    '/p/': {'/s/': 0.0, '/p/': 0.1, '/ie:/': 0.8, '/tS/': 0.1},\n",
    "    '/ie:/': {'/s/': 0.0, '/p/': 0.0, '/ie:/': 0.2, '/tS/': 0.8},\n",
    "    '/tS/': {'/s/': 0.2, '/p/': 0.0, '/ie:/': 0.0, '/tS/': 0.8}\n",
    "}"
   ]
  },
  {
   "cell_type": "code",
   "execution_count": 25,
   "metadata": {},
   "outputs": [],
   "source": [
    "# Emission probabilities matrix\n",
    "emission_probs = {\n",
    "    '/s/': {'Energy': 0.7, 'Pitch': 0.2, 'Duration': 0.1},\n",
    "    '/p/': {'Energy': 0.5, 'Pitch': 0.3, 'Duration': 0.2},\n",
    "    '/ie:/': {'Energy': 0.3, 'Pitch': 0.5, 'Duration': 0.2},\n",
    "    '/tS/': {'Energy': 0.4, 'Pitch': 0.4, 'Duration': 0.2}\n",
    "}"
   ]
  },
  {
   "cell_type": "code",
   "execution_count": 26,
   "metadata": {},
   "outputs": [],
   "source": [
    "# (b) Displaying the HMM parameters\n",
    "def display_hmm_parameters():\n",
    "    print(\"Initial Probabilities:\")\n",
    "    for phoneme, prob in initial_probs.items():\n",
    "        print(f\"{phoneme}: {prob}\")\n",
    "    \n",
    "    print(\"\\nTransition Probabilities:\")\n",
    "    for from_phoneme, transitions in transition_probs.items():\n",
    "        print(f\"\\nFrom {from_phoneme}:\")\n",
    "        for to_phoneme, prob in transitions.items():\n",
    "            print(f\"    To {to_phoneme}: {prob}\")\n",
    "    \n",
    "    print(\"\\nEmission Probabilities:\")\n",
    "    for phoneme, emissions in emission_probs.items():\n",
    "        print(f\"\\nFor phoneme {phoneme}:\")\n",
    "        for observation, prob in emissions.items():\n",
    "            print(f\"    {observation}: {prob}\")"
   ]
  },
  {
   "cell_type": "code",
   "execution_count": 27,
   "metadata": {},
   "outputs": [],
   "source": [
    "# (c) Generating a sequence of phonemes and corresponding observations\n",
    "def generate_sequence(length=4):\n",
    "    phoneme_sequence =[]\n",
    "    observation_sequence = []\n",
    "\n",
    "    # Start with the phoneme '/s/'\n",
    "    current_phoneme = '/s/'\n",
    "    phoneme_sequence.append(current_phoneme)\n",
    "\n",
    "    # Generate the sequence based on transition and emission probabilities\n",
    "    for _ in range(1, length):\n",
    "        # Transition to the next phoneme based on transition probabilities\n",
    "        transition_probs_list = list(transition_probs[current_phoneme].items())\n",
    "        next_phoneme, _ = zip(*transition_probs_list)\n",
    "        next_phoneme = np.random.choice(next_phoneme, p=list(transition_probs[current_phoneme].values()))\n",
    "        \n",
    "        # Add the phoneme to the sequence\n",
    "        phoneme_sequence.append(next_phoneme)\n",
    "        current_phoneme = next_phoneme\n",
    "        \n",
    "        # Generate observation for the current phoneme\n",
    "        observation_probs = emission_probs[current_phoneme]\n",
    "        observation = np.random.choice(observations, p=[observation_probs[o] for o in observations])\n",
    "        observation_sequence.append(observation)\n",
    "    \n",
    "    return phoneme_sequence, observation_sequence    "
   ]
  },
  {
   "cell_type": "code",
   "execution_count": 28,
   "metadata": {},
   "outputs": [],
   "source": [
    "# (d) Running the program to generate the sequence\n",
    "phoneme_sequence, observation_sequence = generate_sequence()"
   ]
  },
  {
   "cell_type": "code",
   "execution_count": 29,
   "metadata": {},
   "outputs": [
    {
     "name": "stdout",
     "output_type": "stream",
     "text": [
      "\n",
      "Generated phoneme sequence: ['/s/', '/p/', '/ie:/', '/tS/']\n",
      "Corresponding observations: ['Pitch', 'Energy', 'Energy']\n"
     ]
    }
   ],
   "source": [
    "# Display the generated phoneme sequence\n",
    "print(\"\\nGenerated phoneme sequence:\", phoneme_sequence)\n",
    "print(\"Corresponding observations:\", observation_sequence)"
   ]
  },
  {
   "cell_type": "code",
   "execution_count": 30,
   "metadata": {},
   "outputs": [
    {
     "name": "stdout",
     "output_type": "stream",
     "text": [
      "Initial Probabilities:\n",
      "/s/: 1.0\n",
      "/p/: 0.0\n",
      "/ie/: 0.0\n",
      "/tS/: 0.0\n",
      "\n",
      "Transition Probabilities:\n",
      "\n",
      "From /s/:\n",
      "    To /s/: 0.1\n",
      "    To /p/: 0.8\n",
      "    To /ie:/: 0.1\n",
      "    To /tS/: 0.0\n",
      "\n",
      "From /p/:\n",
      "    To /s/: 0.0\n",
      "    To /p/: 0.1\n",
      "    To /ie:/: 0.8\n",
      "    To /tS/: 0.1\n",
      "\n",
      "From /ie:/:\n",
      "    To /s/: 0.0\n",
      "    To /p/: 0.0\n",
      "    To /ie:/: 0.2\n",
      "    To /tS/: 0.8\n",
      "\n",
      "From /tS/:\n",
      "    To /s/: 0.2\n",
      "    To /p/: 0.0\n",
      "    To /ie:/: 0.0\n",
      "    To /tS/: 0.8\n",
      "\n",
      "Emission Probabilities:\n",
      "\n",
      "For phoneme /s/:\n",
      "    Energy: 0.7\n",
      "    Pitch: 0.2\n",
      "    Duration: 0.1\n",
      "\n",
      "For phoneme /p/:\n",
      "    Energy: 0.5\n",
      "    Pitch: 0.3\n",
      "    Duration: 0.2\n",
      "\n",
      "For phoneme /ie:/:\n",
      "    Energy: 0.3\n",
      "    Pitch: 0.5\n",
      "    Duration: 0.2\n",
      "\n",
      "For phoneme /tS/:\n",
      "    Energy: 0.4\n",
      "    Pitch: 0.4\n",
      "    Duration: 0.2\n"
     ]
    }
   ],
   "source": [
    "# (b) Display HMM parameters\n",
    "display_hmm_parameters()"
   ]
  },
  {
   "cell_type": "code",
   "execution_count": null,
   "metadata": {},
   "outputs": [],
   "source": []
  }
 ],
 "metadata": {
  "kernelspec": {
   "display_name": "Python 3",
   "language": "python",
   "name": "python3"
  },
  "language_info": {
   "codemirror_mode": {
    "name": "ipython",
    "version": 3
   },
   "file_extension": ".py",
   "mimetype": "text/x-python",
   "name": "python",
   "nbconvert_exporter": "python",
   "pygments_lexer": "ipython3",
   "version": "3.11.5"
  }
 },
 "nbformat": 4,
 "nbformat_minor": 2
}
