{
 "cells": [
  {
   "cell_type": "code",
   "execution_count": 4,
   "metadata": {},
   "outputs": [
    {
     "name": "stdout",
     "output_type": "stream",
     "text": [
      "Speak something\n",
      "Listening...\n",
      "Recognizing...\n",
      "Speech recognized: \"my name is Abhinav\"\n",
      "Speech successfully converted to text!\n"
     ]
    }
   ],
   "source": [
    "import speech_recognition as sr\n",
    "\n",
    "def speech_to_text():\n",
    "    # Initialize recognizer\n",
    "    recognizer = sr.Recognizer()\n",
    "    \n",
    "    # Provide initial feedback to the user\n",
    "    print(\"Speak something\")\n",
    "\n",
    "    # Capture speech input from the microphone\n",
    "    with sr.Microphone() as source:\n",
    "        try:\n",
    "            # Adjust for ambient noise\n",
    "            recognizer.adjust_for_ambient_noise(source)\n",
    "            # Start recognizing\n",
    "            print(\"Listening...\")\n",
    "            audio = recognizer.listen(source)\n",
    "            \n",
    "            # Provide feedback while recognizing\n",
    "            print(\"Recognizing...\")\n",
    "            # Convert speech to text using Google's speech recognition API\n",
    "            text = recognizer.recognize_google(audio)\n",
    "            \n",
    "            # Provide feedback after successful conversion\n",
    "            print(f'Speech recognized: \"{text}\"')\n",
    "            print(\"Speech successfully converted to text!\")\n",
    "        \n",
    "        except sr.UnknownValueError:\n",
    "            # Handle unclear speech\n",
    "            print(\"Speech Recognition could not understand audio, Please try speaking more clearly.\")\n",
    "        \n",
    "        except sr.RequestError:\n",
    "            # Handle failure to connect to recognition service\n",
    "            print(\"Could not request results from the speech recognition service; check your network connection.\")\n",
    "        \n",
    "        except Exception as e:\n",
    "            # Handle other errors\n",
    "            print(f\"An error occurred: {str(e)}\")\n",
    "\n",
    "# Run the function\n",
    "speech_to_text()"
   ]
  },
  {
   "cell_type": "code",
   "execution_count": 3,
   "metadata": {},
   "outputs": [],
   "source": []
  },
  {
   "cell_type": "code",
   "execution_count": null,
   "metadata": {},
   "outputs": [],
   "source": []
  }
 ],
 "metadata": {
  "kernelspec": {
   "display_name": "Python 3",
   "language": "python",
   "name": "python3"
  },
  "language_info": {
   "codemirror_mode": {
    "name": "ipython",
    "version": 3
   },
   "file_extension": ".py",
   "mimetype": "text/x-python",
   "name": "python",
   "nbconvert_exporter": "python",
   "pygments_lexer": "ipython3",
   "version": "3.11.5"
  }
 },
 "nbformat": 4,
 "nbformat_minor": 2
}
