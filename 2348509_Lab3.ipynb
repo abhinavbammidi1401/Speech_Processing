{
 "cells": [
  {
   "cell_type": "code",
   "execution_count": 3,
   "metadata": {},
   "outputs": [
    {
     "name": "stdout",
     "output_type": "stream",
     "text": [
      "Speak something\n",
      "Listening...\n",
      "Recognizing...\n",
      "Speech recognized: \"my name is Abhinav\"\n",
      "Speech successfully converted to text!\n"
     ]
    }
   ],
   "source": [
    "import speech_recognition as sr\n",
    "\n",
    "def speech_to_text():\n",
    "    # Initialize recognizer\n",
    "    recognizer = sr.Recognizer()\n",
    "    \n",
    "    # Provide initial feedback to the user\n",
    "    print(\"Speak something\")\n",
    "\n",
    "    # Capture speech input from the microphone\n",
    "    with sr.Microphone() as source:\n",
    "        try:\n",
    "            # Adjust for ambient noise\n",
    "            recognizer.adjust_for_ambient_noise(source)\n",
    "            # Start recognizing\n",
    "            print(\"Listening...\")\n",
    "            audio = recognizer.listen(source)\n",
    "            \n",
    "            # Provide feedback while recognizing\n",
    "            print(\"Recognizing...\")\n",
    "            # Convert speech to text using Google's speech recognition API\n",
    "            text = recognizer.recognize_google(audio)\n",
    "            \n",
    "            # Provide feedback after successful conversion\n",
    "            print(f'Speech recognized: \"{text}\"')\n",
    "            print(\"Speech successfully converted to text!\")\n",
    "        \n",
    "        except sr.UnknownValueError:\n",
    "            # Handle unclear speech\n",
    "            print(\"Speech Recognition could not understand audio, Please try speaking more clearly.\")\n",
    "        \n",
    "        except sr.RequestError:\n",
    "            # Handle failure to connect to recognition service\n",
    "            print(\"Could not request results from the speech recognition service; check your network connection.\")\n",
    "        \n",
    "        except Exception as e:\n",
    "            # Handle other errors\n",
    "            print(f\"An error occurred: {str(e)}\")\n",
    "\n",
    "# Run the function\n",
    "speech_to_text()"
   ]
  },
  {
   "cell_type": "code",
   "execution_count": 1,
   "metadata": {},
   "outputs": [
    {
     "name": "stdout",
     "output_type": "stream",
     "text": [
      "Voice command app started.\n",
      "Listening... Adjusting for ambient noise...\n",
      "Recognizing speech...\n",
      "Unclear speech. Please try again.\n",
      "Listening... Adjusting for ambient noise...\n",
      "Recognizing speech...\n",
      "Unclear speech. Please try again.\n",
      "Listening... Adjusting for ambient noise...\n",
      "Recognizing speech...\n",
      "Unclear speech. Please try again.\n",
      "Listening... Adjusting for ambient noise...\n"
     ]
    },
    {
     "ename": "KeyboardInterrupt",
     "evalue": "",
     "output_type": "error",
     "traceback": [
      "\u001b[1;31m---------------------------------------------------------------------------\u001b[0m",
      "\u001b[1;31mKeyboardInterrupt\u001b[0m                         Traceback (most recent call last)",
      "Cell \u001b[1;32mIn[1], line 56\u001b[0m\n\u001b[0;32m     54\u001b[0m \u001b[38;5;28mprint\u001b[39m(\u001b[38;5;124m\"\u001b[39m\u001b[38;5;124mVoice command app started.\u001b[39m\u001b[38;5;124m\"\u001b[39m)\n\u001b[0;32m     55\u001b[0m \u001b[38;5;28;01mwhile\u001b[39;00m \u001b[38;5;28;01mTrue\u001b[39;00m:\n\u001b[1;32m---> 56\u001b[0m     \u001b[43mrecognize_speech\u001b[49m\u001b[43m(\u001b[49m\u001b[43mlanguage_code\u001b[49m\u001b[43m)\u001b[49m\n",
      "Cell \u001b[1;32mIn[1], line 18\u001b[0m, in \u001b[0;36mrecognize_speech\u001b[1;34m(language_code)\u001b[0m\n\u001b[0;32m     16\u001b[0m \u001b[38;5;28;01mwith\u001b[39;00m sr\u001b[38;5;241m.\u001b[39mMicrophone() \u001b[38;5;28;01mas\u001b[39;00m source:\n\u001b[0;32m     17\u001b[0m     \u001b[38;5;28mprint\u001b[39m(\u001b[38;5;124m\"\u001b[39m\u001b[38;5;124mListening... Adjusting for ambient noise...\u001b[39m\u001b[38;5;124m\"\u001b[39m)\n\u001b[1;32m---> 18\u001b[0m     \u001b[43mrecognizer\u001b[49m\u001b[38;5;241;43m.\u001b[39;49m\u001b[43madjust_for_ambient_noise\u001b[49m\u001b[43m(\u001b[49m\u001b[43msource\u001b[49m\u001b[43m)\u001b[49m\n\u001b[0;32m     19\u001b[0m     audio \u001b[38;5;241m=\u001b[39m recognizer\u001b[38;5;241m.\u001b[39mlisten(source)\n\u001b[0;32m     21\u001b[0m     \u001b[38;5;28;01mtry\u001b[39;00m:\n",
      "File \u001b[1;32mc:\\Users\\ABHINAV\\AppData\\Local\\Programs\\Python\\Python311\\Lib\\site-packages\\speech_recognition\\__init__.py:393\u001b[0m, in \u001b[0;36mRecognizer.adjust_for_ambient_noise\u001b[1;34m(self, source, duration)\u001b[0m\n\u001b[0;32m    391\u001b[0m elapsed_time \u001b[38;5;241m+\u001b[39m\u001b[38;5;241m=\u001b[39m seconds_per_buffer\n\u001b[0;32m    392\u001b[0m \u001b[38;5;28;01mif\u001b[39;00m elapsed_time \u001b[38;5;241m>\u001b[39m duration: \u001b[38;5;28;01mbreak\u001b[39;00m\n\u001b[1;32m--> 393\u001b[0m buffer \u001b[38;5;241m=\u001b[39m \u001b[43msource\u001b[49m\u001b[38;5;241;43m.\u001b[39;49m\u001b[43mstream\u001b[49m\u001b[38;5;241;43m.\u001b[39;49m\u001b[43mread\u001b[49m\u001b[43m(\u001b[49m\u001b[43msource\u001b[49m\u001b[38;5;241;43m.\u001b[39;49m\u001b[43mCHUNK\u001b[49m\u001b[43m)\u001b[49m\n\u001b[0;32m    394\u001b[0m energy \u001b[38;5;241m=\u001b[39m audioop\u001b[38;5;241m.\u001b[39mrms(buffer, source\u001b[38;5;241m.\u001b[39mSAMPLE_WIDTH)  \u001b[38;5;66;03m# energy of the audio signal\u001b[39;00m\n\u001b[0;32m    396\u001b[0m \u001b[38;5;66;03m# dynamically adjust the energy threshold using asymmetric weighted average\u001b[39;00m\n",
      "File \u001b[1;32mc:\\Users\\ABHINAV\\AppData\\Local\\Programs\\Python\\Python311\\Lib\\site-packages\\speech_recognition\\__init__.py:199\u001b[0m, in \u001b[0;36mMicrophone.MicrophoneStream.read\u001b[1;34m(self, size)\u001b[0m\n\u001b[0;32m    198\u001b[0m \u001b[38;5;28;01mdef\u001b[39;00m \u001b[38;5;21mread\u001b[39m(\u001b[38;5;28mself\u001b[39m, size):\n\u001b[1;32m--> 199\u001b[0m     \u001b[38;5;28;01mreturn\u001b[39;00m \u001b[38;5;28;43mself\u001b[39;49m\u001b[38;5;241;43m.\u001b[39;49m\u001b[43mpyaudio_stream\u001b[49m\u001b[38;5;241;43m.\u001b[39;49m\u001b[43mread\u001b[49m\u001b[43m(\u001b[49m\u001b[43msize\u001b[49m\u001b[43m,\u001b[49m\u001b[43m \u001b[49m\u001b[43mexception_on_overflow\u001b[49m\u001b[38;5;241;43m=\u001b[39;49m\u001b[38;5;28;43;01mFalse\u001b[39;49;00m\u001b[43m)\u001b[49m\n",
      "File \u001b[1;32mc:\\Users\\ABHINAV\\AppData\\Local\\Programs\\Python\\Python311\\Lib\\site-packages\\pyaudio\\__init__.py:570\u001b[0m, in \u001b[0;36mPyAudio.Stream.read\u001b[1;34m(self, num_frames, exception_on_overflow)\u001b[0m\n\u001b[0;32m    567\u001b[0m \u001b[38;5;28;01mif\u001b[39;00m \u001b[38;5;129;01mnot\u001b[39;00m \u001b[38;5;28mself\u001b[39m\u001b[38;5;241m.\u001b[39m_is_input:\n\u001b[0;32m    568\u001b[0m     \u001b[38;5;28;01mraise\u001b[39;00m \u001b[38;5;167;01mIOError\u001b[39;00m(\u001b[38;5;124m\"\u001b[39m\u001b[38;5;124mNot input stream\u001b[39m\u001b[38;5;124m\"\u001b[39m,\n\u001b[0;32m    569\u001b[0m                   paCanNotReadFromAnOutputOnlyStream)\n\u001b[1;32m--> 570\u001b[0m \u001b[38;5;28;01mreturn\u001b[39;00m \u001b[43mpa\u001b[49m\u001b[38;5;241;43m.\u001b[39;49m\u001b[43mread_stream\u001b[49m\u001b[43m(\u001b[49m\u001b[38;5;28;43mself\u001b[39;49m\u001b[38;5;241;43m.\u001b[39;49m\u001b[43m_stream\u001b[49m\u001b[43m,\u001b[49m\u001b[43m \u001b[49m\u001b[43mnum_frames\u001b[49m\u001b[43m,\u001b[49m\n\u001b[0;32m    571\u001b[0m \u001b[43m                      \u001b[49m\u001b[43mexception_on_overflow\u001b[49m\u001b[43m)\u001b[49m\n",
      "\u001b[1;31mKeyboardInterrupt\u001b[0m: "
     ]
    }
   ],
   "source": [
    "import speech_recognition as sr\n",
    "import pyttsx3  # For text-to-speech\n",
    "\n",
    "# Initialize text-to-speech engine\n",
    "engine = pyttsx3.init()\n",
    "\n",
    "# Function to speak a message aloud\n",
    "def speak_text(text):\n",
    "    engine.say(text)\n",
    "    engine.runAndWait()\n",
    "\n",
    "# Function to recognize speech\n",
    "def recognize_speech(language_code='en-US'):\n",
    "    recognizer = sr.Recognizer()\n",
    "\n",
    "    with sr.Microphone() as source:\n",
    "        print(\"Listening... Adjusting for ambient noise...\")\n",
    "        recognizer.adjust_for_ambient_noise(source)\n",
    "        audio = recognizer.listen(source)\n",
    "\n",
    "        try:\n",
    "            print(\"Recognizing speech...\")\n",
    "            # Convert speech to text using Google API and the selected language\n",
    "            text = recognizer.recognize_google(audio, language=language_code)\n",
    "            print(f\"Recognized: {text}\")\n",
    "            speak_text(f\"Command recognized: {text}\")\n",
    "            execute_command(text)\n",
    "\n",
    "        except sr.UnknownValueError:\n",
    "            print(\"Unclear speech. Please try again.\")\n",
    "            speak_text(\"Sorry, I didn't understand that. Please speak clearly.\")\n",
    "            \n",
    "        except sr.RequestError:\n",
    "            print(\"Network error. Check your connection.\")\n",
    "            speak_text(\"I'm having trouble connecting to the network. Please check your internet.\")\n",
    "\n",
    "# Function to execute commands based on recognized speech\n",
    "def execute_command(command_text):\n",
    "    if \"light\" in command_text.lower():\n",
    "        print(\"Turning on the lights.\")\n",
    "        speak_text(\"Turning on the lights.\")\n",
    "    elif \"music\" in command_text.lower():\n",
    "        print(\"Playing your favorite song.\")\n",
    "        speak_text(\"Playing your favorite song.\")\n",
    "    else:\n",
    "        print(f\"Executing command: {command_text}\")\n",
    "        speak_text(f\"Executing command: {command_text}\")\n",
    "\n",
    "# Main execution loop\n",
    "if __name__ == \"__main__\":\n",
    "    # Default language is 'en-US', change if needed\n",
    "    language_code = 'en-US'  # Options: 'en-US', 'es-ES', 'fr-FR', 'de-DE', etc.\n",
    "    \n",
    "    print(\"Voice command app started.\")\n",
    "    while True:\n",
    "        recognize_speech(language_code)"
   ]
  },
  {
   "cell_type": "code",
   "execution_count": null,
   "metadata": {},
   "outputs": [],
   "source": []
  }
 ],
 "metadata": {
  "kernelspec": {
   "display_name": "Python 3",
   "language": "python",
   "name": "python3"
  },
  "language_info": {
   "codemirror_mode": {
    "name": "ipython",
    "version": 3
   },
   "file_extension": ".py",
   "mimetype": "text/x-python",
   "name": "python",
   "nbconvert_exporter": "python",
   "pygments_lexer": "ipython3",
   "version": "3.11.5"
  }
 },
 "nbformat": 4,
 "nbformat_minor": 2
}
